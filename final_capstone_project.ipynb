# This notebook will be mainly used for capstone project
# This is created by Chakri S Valluri for the captone project called Battle of Neighbourhoods
#
import pandas as pd
#
import numpy as np
#
print("Hello Capstone Project Course !")
